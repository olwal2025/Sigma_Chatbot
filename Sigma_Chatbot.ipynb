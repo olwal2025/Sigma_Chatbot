{
  "nbformat": 4,
  "nbformat_minor": 0,
  "metadata": {
    "colab": {
      "provenance": []
    },
    "kernelspec": {
      "name": "python3",
      "display_name": "Python 3"
    },
    "language_info": {
      "name": "python"
    }
  },
  "cells": [
    {
      "cell_type": "code",
      "execution_count": 2,
      "metadata": {
        "colab": {
          "base_uri": "https://localhost:8080/"
        },
        "id": "5rPJe9iHL8cs",
        "outputId": "7e5cdc48-6360-4b02-8802-8d95cae7219d"
      },
      "outputs": [
        {
          "output_type": "stream",
          "name": "stdout",
          "text": [
            "Hello! I am Sigma – your friendly financial sidekick!\n",
            "I help you pick the best crypto based on trends and sustainability. \n",
            "\n"
          ]
        }
      ],
      "source": [
        "# Chatbot greeting\n",
        "def greet_user():\n",
        "    print(\"Hello! I am Sigma – your friendly financial sidekick!\")\n",
        "    print(\"I help you pick the best crypto based on trends and sustainability. \\n\")\n",
        "\n",
        "greet_user()\n"
      ]
    },
    {
      "cell_type": "code",
      "source": [
        "# Predefined cryptocurrency database\n",
        "crypto_db = {\n",
        "    \"Bitcoin\": {\n",
        "        \"price_trend\": \"rising\",\n",
        "        \"market_cap\": \"high\",\n",
        "        \"energy_use\": \"high\",\n",
        "        \"sustainability_score\": 3\n",
        "    },\n",
        "    \"Ethereum\": {\n",
        "        \"price_trend\": \"stable\",\n",
        "        \"market_cap\": \"high\",\n",
        "        \"energy_use\": \"medium\",\n",
        "        \"sustainability_score\": 6\n",
        "    },\n",
        "    \"Cardano\": {\n",
        "        \"price_trend\": \"rising\",\n",
        "        \"market_cap\": \"medium\",\n",
        "        \"energy_use\": \"low\",\n",
        "        \"sustainability_score\": 8\n",
        "    }\n",
        "}\n"
      ],
      "metadata": {
        "id": "HklOv99LPDzC"
      },
      "execution_count": 3,
      "outputs": []
    },
    {
      "cell_type": "code",
      "source": [
        "def get_crypto_advice(user_query):\n",
        "    query = user_query.lower()\n",
        "\n",
        "    if \"sustainable\" in query:\n",
        "        recommend = max(crypto_db, key=lambda x: crypto_db[x][\"sustainability_score\"])\n",
        "        print(f\" Invest in {recommend}! It is eco-friendly and has long-term potential.\")\n",
        "\n",
        "    elif \"trending\" in query or \"rising\" in query:\n",
        "        trending = [coin for coin in crypto_db if crypto_db[coin][\"price_trend\"] == \"rising\"]\n",
        "        print(f\" These cryptos are trending up: {', '.join(trending)}\")\n",
        "\n",
        "    elif \"long-term\" in query or \"best\" in query:\n",
        "        for coin, data in crypto_db.items():\n",
        "            if data[\"price_trend\"] == \"rising\" and data[\"sustainability_score\"] > 7:\n",
        "                print(f\" Go with {coin}! It is growing and sustainable.\")\n",
        "                return\n",
        "        print(\" No ideal match found for long-term investment right now.\")\n",
        "\n",
        "    else:\n",
        "        print(\" I am not sure how to help with that. Try asking about trends or sustainability.\")\n",
        "\n",
        "# Include disclaimer at the end of each response\n",
        "    print(\"\\n Disclaimer: Crypto is risky—always do your own research!\")\n",
        "\n",
        "# Test the chatbot with sample queries\n",
        "get_crypto_advice(\"Which crypto is trending up?\")\n",
        "get_crypto_advice(\"What’s the most sustainable coin?\")\n",
        "get_crypto_advice(\"Which crypto should I buy for long-term growth?\")"
      ],
      "metadata": {
        "colab": {
          "base_uri": "https://localhost:8080/"
        },
        "id": "Ee_Cv0olPh1_",
        "outputId": "4bdf98ef-9f7f-40f9-94d3-01f212645cb4"
      },
      "execution_count": 9,
      "outputs": [
        {
          "output_type": "stream",
          "name": "stdout",
          "text": [
            " These cryptos are trending up: Bitcoin, Cardano\n",
            "\n",
            " Disclaimer: Crypto is risky—always do your own research!\n",
            " Invest in Cardano! It is eco-friendly and has long-term potential.\n",
            "\n",
            " Disclaimer: Crypto is risky—always do your own research!\n",
            " Go with Cardano! It is growing and sustainable.\n"
          ]
        }
      ]
    },
    {
      "cell_type": "code",
      "source": [
        "while True:\n",
        "    user_input = input(\"\\nYou: \")\n",
        "    if user_input.lower() in [\"exit\", \"quit\"]:\n",
        "        print(\"Sigma: Bye for now!\")\n",
        "        break\n",
        "    get_crypto_advice(user_input)\n"
      ],
      "metadata": {
        "colab": {
          "base_uri": "https://localhost:8080/"
        },
        "id": "iNkkoLkpRLtr",
        "outputId": "db2a2eed-a28f-4716-a4a5-b013ed3da382"
      },
      "execution_count": 6,
      "outputs": [
        {
          "output_type": "stream",
          "name": "stdout",
          "text": [
            "\n",
            "You: exit\n",
            "Sigma: Bye for now!\n"
          ]
        }
      ]
    }
  ]
}